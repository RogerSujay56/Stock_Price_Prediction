{
 "cells": [
  {
   "cell_type": "code",
   "execution_count": 1,
   "id": "feb7b9ff",
   "metadata": {},
   "outputs": [],
   "source": [
    "import pandas as pd\n",
    "import numpy as np\n",
    "import matplotlib.pyplot as plt"
   ]
  },
  {
   "cell_type": "code",
   "execution_count": 2,
   "id": "ee7bc38a",
   "metadata": {},
   "outputs": [
    {
     "data": {
      "text/html": [
       "<div>\n",
       "<style scoped>\n",
       "    .dataframe tbody tr th:only-of-type {\n",
       "        vertical-align: middle;\n",
       "    }\n",
       "\n",
       "    .dataframe tbody tr th {\n",
       "        vertical-align: top;\n",
       "    }\n",
       "\n",
       "    .dataframe thead th {\n",
       "        text-align: right;\n",
       "    }\n",
       "</style>\n",
       "<table border=\"1\" class=\"dataframe\">\n",
       "  <thead>\n",
       "    <tr style=\"text-align: right;\">\n",
       "      <th></th>\n",
       "      <th>Date</th>\n",
       "      <th>Open</th>\n",
       "      <th>High</th>\n",
       "      <th>Low</th>\n",
       "      <th>Close</th>\n",
       "      <th>Volume</th>\n",
       "    </tr>\n",
       "  </thead>\n",
       "  <tbody>\n",
       "    <tr>\n",
       "      <th>0</th>\n",
       "      <td>1/3/2012</td>\n",
       "      <td>325.25</td>\n",
       "      <td>332.83</td>\n",
       "      <td>324.97</td>\n",
       "      <td>663.59</td>\n",
       "      <td>7,380,500</td>\n",
       "    </tr>\n",
       "    <tr>\n",
       "      <th>1</th>\n",
       "      <td>1/4/2012</td>\n",
       "      <td>331.27</td>\n",
       "      <td>333.87</td>\n",
       "      <td>329.08</td>\n",
       "      <td>666.45</td>\n",
       "      <td>5,749,400</td>\n",
       "    </tr>\n",
       "    <tr>\n",
       "      <th>2</th>\n",
       "      <td>1/5/2012</td>\n",
       "      <td>329.83</td>\n",
       "      <td>330.75</td>\n",
       "      <td>326.89</td>\n",
       "      <td>657.21</td>\n",
       "      <td>6,590,300</td>\n",
       "    </tr>\n",
       "    <tr>\n",
       "      <th>3</th>\n",
       "      <td>1/6/2012</td>\n",
       "      <td>328.34</td>\n",
       "      <td>328.77</td>\n",
       "      <td>323.68</td>\n",
       "      <td>648.24</td>\n",
       "      <td>5,405,900</td>\n",
       "    </tr>\n",
       "    <tr>\n",
       "      <th>4</th>\n",
       "      <td>1/9/2012</td>\n",
       "      <td>322.04</td>\n",
       "      <td>322.29</td>\n",
       "      <td>309.46</td>\n",
       "      <td>620.76</td>\n",
       "      <td>11,688,800</td>\n",
       "    </tr>\n",
       "  </tbody>\n",
       "</table>\n",
       "</div>"
      ],
      "text/plain": [
       "       Date    Open    High     Low   Close      Volume\n",
       "0  1/3/2012  325.25  332.83  324.97  663.59   7,380,500\n",
       "1  1/4/2012  331.27  333.87  329.08  666.45   5,749,400\n",
       "2  1/5/2012  329.83  330.75  326.89  657.21   6,590,300\n",
       "3  1/6/2012  328.34  328.77  323.68  648.24   5,405,900\n",
       "4  1/9/2012  322.04  322.29  309.46  620.76  11,688,800"
      ]
     },
     "execution_count": 2,
     "metadata": {},
     "output_type": "execute_result"
    }
   ],
   "source": [
    "df_train=pd.read_csv('../../Datasets/Google_Stock_price/Google_Stock_Price_Train.csv')\n",
    "df_train.head()"
   ]
  },
  {
   "cell_type": "code",
   "execution_count": null,
   "id": "c6bd6964",
   "metadata": {},
   "outputs": [],
   "source": [
    "df"
   ]
  },
  {
   "cell_type": "code",
   "execution_count": 4,
   "id": "0c098641",
   "metadata": {},
   "outputs": [
    {
     "data": {
      "text/plain": [
       "718.81    2\n",
       "759.69    2\n",
       "573.7     2\n",
       "772.15    2\n",
       "532.34    2\n",
       "         ..\n",
       "582.06    1\n",
       "514.94    1\n",
       "548.78    1\n",
       "533.85    1\n",
       "614.66    1\n",
       "Name: Close, Length: 1241, dtype: int64"
      ]
     },
     "execution_count": 4,
     "metadata": {},
     "output_type": "execute_result"
    }
   ],
   "source": [
    "df_train['Close'].value_counts()"
   ]
  },
  {
   "cell_type": "code",
   "execution_count": 5,
   "id": "1449f521",
   "metadata": {},
   "outputs": [],
   "source": [
    "df_train['Close']=df_train['Close'].str.replace(',',\"\").astype(float)"
   ]
  },
  {
   "cell_type": "code",
   "execution_count": 6,
   "id": "733bc8a1",
   "metadata": {},
   "outputs": [
    {
     "data": {
      "text/plain": [
       "0       663.59\n",
       "1       666.45\n",
       "2       657.21\n",
       "3       648.24\n",
       "4       620.76\n",
       "         ...  \n",
       "1253    789.91\n",
       "1254    791.55\n",
       "1255    785.05\n",
       "1256    782.79\n",
       "1257    771.82\n",
       "Name: Close, Length: 1258, dtype: float64"
      ]
     },
     "execution_count": 6,
     "metadata": {},
     "output_type": "execute_result"
    }
   ],
   "source": [
    "df_train['Close']"
   ]
  },
  {
   "cell_type": "code",
   "execution_count": 7,
   "id": "75edea23",
   "metadata": {},
   "outputs": [
    {
     "data": {
      "text/plain": [
       "0       663.59\n",
       "1       666.45\n",
       "2       657.21\n",
       "3       648.24\n",
       "4       620.76\n",
       "         ...  \n",
       "1253    789.91\n",
       "1254    791.55\n",
       "1255    785.05\n",
       "1256    782.79\n",
       "1257    771.82\n",
       "Name: Close, Length: 1258, dtype: float64"
      ]
     },
     "execution_count": 7,
     "metadata": {},
     "output_type": "execute_result"
    }
   ],
   "source": [
    "df_train['Close']"
   ]
  },
  {
   "cell_type": "code",
   "execution_count": 8,
   "id": "450e43cd",
   "metadata": {},
   "outputs": [],
   "source": [
    "X = df_train[['Open','High','Low','Close']]"
   ]
  },
  {
   "cell_type": "code",
   "execution_count": 9,
   "id": "34d13389",
   "metadata": {},
   "outputs": [],
   "source": [
    "from sklearn.preprocessing import MinMaxScaler"
   ]
  },
  {
   "cell_type": "code",
   "execution_count": 10,
   "id": "c1dd8d9c",
   "metadata": {},
   "outputs": [
    {
     "data": {
      "text/plain": [
       "array([[0.08581368, 0.09640129, 0.09044931, 0.23757287],\n",
       "       [0.09701243, 0.09834351, 0.09823458, 0.24151427],\n",
       "       [0.09433366, 0.09251685, 0.09408623, 0.22878051],\n",
       "       ...,\n",
       "       [0.95725128, 0.95807422, 0.95844067, 0.40495845],\n",
       "       [0.93796041, 0.94257381, 0.95033338, 0.40184391],\n",
       "       [0.93688146, 0.93669113, 0.93421352, 0.38672602]])"
      ]
     },
     "execution_count": 10,
     "metadata": {},
     "output_type": "execute_result"
    }
   ],
   "source": [
    "scaler = MinMaxScaler()\n",
    "X = scaler.fit_transform(X)\n",
    "X"
   ]
  },
  {
   "cell_type": "code",
   "execution_count": 11,
   "id": "59d062df",
   "metadata": {},
   "outputs": [
    {
     "data": {
      "text/plain": [
       "(1258, 4)"
      ]
     },
     "execution_count": 11,
     "metadata": {},
     "output_type": "execute_result"
    }
   ],
   "source": [
    "X.shape"
   ]
  },
  {
   "cell_type": "code",
   "execution_count": 12,
   "id": "9e627828",
   "metadata": {},
   "outputs": [
    {
     "data": {
      "text/plain": [
       "(1198, 61, 4)"
      ]
     },
     "execution_count": 12,
     "metadata": {},
     "output_type": "execute_result"
    }
   ],
   "source": [
    "rows=[]\n",
    "for i in range(1198):\n",
    "    rows.append(X[i:i+61,0:4])#Slicing i=0 to 60 and 0 for first column\n",
    "X_train=np.array(rows)\n",
    "X_train.shape"
   ]
  },
  {
   "cell_type": "code",
   "execution_count": 13,
   "id": "a0fe22e2",
   "metadata": {},
   "outputs": [],
   "source": [
    "y_train = X_train[:,-1]\n",
    "X_train = X_train[:,:-1]"
   ]
  },
  {
   "cell_type": "code",
   "execution_count": 14,
   "id": "f735fafe",
   "metadata": {},
   "outputs": [
    {
     "data": {
      "text/plain": [
       "(1198, 60, 4)"
      ]
     },
     "execution_count": 14,
     "metadata": {},
     "output_type": "execute_result"
    }
   ],
   "source": [
    "X_train.shape"
   ]
  },
  {
   "cell_type": "code",
   "execution_count": 15,
   "id": "43dc3f45",
   "metadata": {},
   "outputs": [
    {
     "data": {
      "text/plain": [
       "(1198, 4)"
      ]
     },
     "execution_count": 15,
     "metadata": {},
     "output_type": "execute_result"
    }
   ],
   "source": [
    "y_train.shape"
   ]
  },
  {
   "cell_type": "code",
   "execution_count": 16,
   "id": "26e82a44",
   "metadata": {},
   "outputs": [],
   "source": [
    "# Model Building\n",
    "from tensorflow.keras.layers import LSTM, Dense\n",
    "from tensorflow.keras.models import Sequential"
   ]
  },
  {
   "cell_type": "code",
   "execution_count": 17,
   "id": "f14c91ef",
   "metadata": {},
   "outputs": [],
   "source": [
    "model = Sequential()\n",
    "model.add(LSTM(100,return_sequences=True, input_shape=(60,4)))\n",
    "model.add(LSTM(100,return_sequences=True))\n",
    "model.add(LSTM(100,return_sequences=True))\n",
    "model.add(LSTM(100,return_sequences=False))\n",
    "model.add(Dense(4))\n",
    "\n",
    "model.compile(loss='mean_squared_error')"
   ]
  },
  {
   "cell_type": "code",
   "execution_count": 18,
   "id": "65e8c34a",
   "metadata": {},
   "outputs": [
    {
     "name": "stdout",
     "output_type": "stream",
     "text": [
      "Epoch 1/40\n",
      "38/38 [==============================] - 23s 255ms/step - loss: 0.0401\n",
      "Epoch 2/40\n",
      "38/38 [==============================] - 9s 250ms/step - loss: 0.0154\n",
      "Epoch 3/40\n",
      "38/38 [==============================] - 9s 238ms/step - loss: 0.0117\n",
      "Epoch 4/40\n",
      "38/38 [==============================] - 9s 236ms/step - loss: 0.0111\n",
      "Epoch 5/40\n",
      "38/38 [==============================] - 9s 231ms/step - loss: 0.0084\n",
      "Epoch 6/40\n",
      "38/38 [==============================] - 9s 239ms/step - loss: 0.0071\n",
      "Epoch 7/40\n",
      "38/38 [==============================] - 8s 223ms/step - loss: 0.0069\n",
      "Epoch 8/40\n",
      "38/38 [==============================] - 9s 229ms/step - loss: 0.0057\n",
      "Epoch 9/40\n",
      "38/38 [==============================] - 9s 236ms/step - loss: 0.0054\n",
      "Epoch 10/40\n",
      "38/38 [==============================] - 9s 236ms/step - loss: 0.0050\n",
      "Epoch 11/40\n",
      "38/38 [==============================] - 9s 232ms/step - loss: 0.0041\n",
      "Epoch 12/40\n",
      "38/38 [==============================] - 8s 212ms/step - loss: 0.0039\n",
      "Epoch 13/40\n",
      "38/38 [==============================] - 8s 210ms/step - loss: 0.0034\n",
      "Epoch 14/40\n",
      "38/38 [==============================] - 9s 227ms/step - loss: 0.0036\n",
      "Epoch 15/40\n",
      "38/38 [==============================] - 9s 234ms/step - loss: 0.0033\n",
      "Epoch 16/40\n",
      "38/38 [==============================] - 9s 232ms/step - loss: 0.0026\n",
      "Epoch 17/40\n",
      "38/38 [==============================] - 7s 196ms/step - loss: 0.0029\n",
      "Epoch 18/40\n",
      "38/38 [==============================] - 8s 198ms/step - loss: 0.0026\n",
      "Epoch 19/40\n",
      "38/38 [==============================] - 8s 221ms/step - loss: 0.0023\n",
      "Epoch 20/40\n",
      "38/38 [==============================] - 8s 207ms/step - loss: 0.0021\n",
      "Epoch 21/40\n",
      "38/38 [==============================] - 8s 200ms/step - loss: 0.0021\n",
      "Epoch 22/40\n",
      "38/38 [==============================] - 8s 215ms/step - loss: 0.0018\n",
      "Epoch 23/40\n",
      "38/38 [==============================] - 7s 195ms/step - loss: 0.0020\n",
      "Epoch 24/40\n",
      "38/38 [==============================] - 8s 222ms/step - loss: 0.0016\n",
      "Epoch 25/40\n",
      "38/38 [==============================] - 9s 226ms/step - loss: 0.0019\n",
      "Epoch 26/40\n",
      "38/38 [==============================] - 8s 220ms/step - loss: 0.0015\n",
      "Epoch 27/40\n",
      "38/38 [==============================] - 9s 231ms/step - loss: 0.0015\n",
      "Epoch 28/40\n",
      "38/38 [==============================] - 9s 229ms/step - loss: 0.0014\n",
      "Epoch 29/40\n",
      "38/38 [==============================] - 9s 230ms/step - loss: 0.0014\n",
      "Epoch 30/40\n",
      "38/38 [==============================] - 9s 230ms/step - loss: 0.0013\n",
      "Epoch 31/40\n",
      "38/38 [==============================] - 9s 231ms/step - loss: 0.0012\n",
      "Epoch 32/40\n",
      "38/38 [==============================] - 9s 225ms/step - loss: 0.0012\n",
      "Epoch 33/40\n",
      "38/38 [==============================] - 8s 221ms/step - loss: 0.0013\n",
      "Epoch 34/40\n",
      "38/38 [==============================] - 9s 229ms/step - loss: 0.0011\n",
      "Epoch 35/40\n",
      "38/38 [==============================] - 9s 236ms/step - loss: 0.0011\n",
      "Epoch 36/40\n",
      "38/38 [==============================] - 9s 236ms/step - loss: 0.0012\n",
      "Epoch 37/40\n",
      "38/38 [==============================] - 9s 223ms/step - loss: 0.0011\n",
      "Epoch 38/40\n",
      "38/38 [==============================] - 9s 236ms/step - loss: 9.7840e-04\n",
      "Epoch 39/40\n",
      "38/38 [==============================] - 9s 231ms/step - loss: 9.5331e-04\n",
      "Epoch 40/40\n",
      "38/38 [==============================] - 9s 229ms/step - loss: 0.0010\n"
     ]
    },
    {
     "data": {
      "text/plain": [
       "<keras.callbacks.History at 0x23b887404c0>"
      ]
     },
     "execution_count": 18,
     "metadata": {},
     "output_type": "execute_result"
    }
   ],
   "source": [
    "model.fit(X_train,y_train, epochs=40, batch_size=32)"
   ]
  },
  {
   "cell_type": "code",
   "execution_count": 19,
   "id": "b7870a27",
   "metadata": {},
   "outputs": [
    {
     "data": {
      "text/html": [
       "<div>\n",
       "<style scoped>\n",
       "    .dataframe tbody tr th:only-of-type {\n",
       "        vertical-align: middle;\n",
       "    }\n",
       "\n",
       "    .dataframe tbody tr th {\n",
       "        vertical-align: top;\n",
       "    }\n",
       "\n",
       "    .dataframe thead th {\n",
       "        text-align: right;\n",
       "    }\n",
       "</style>\n",
       "<table border=\"1\" class=\"dataframe\">\n",
       "  <thead>\n",
       "    <tr style=\"text-align: right;\">\n",
       "      <th></th>\n",
       "      <th>Date</th>\n",
       "      <th>Open</th>\n",
       "      <th>High</th>\n",
       "      <th>Low</th>\n",
       "      <th>Close</th>\n",
       "      <th>Volume</th>\n",
       "    </tr>\n",
       "  </thead>\n",
       "  <tbody>\n",
       "    <tr>\n",
       "      <th>0</th>\n",
       "      <td>1/3/2017</td>\n",
       "      <td>778.81</td>\n",
       "      <td>789.63</td>\n",
       "      <td>775.80</td>\n",
       "      <td>786.14</td>\n",
       "      <td>1,657,300</td>\n",
       "    </tr>\n",
       "    <tr>\n",
       "      <th>1</th>\n",
       "      <td>1/4/2017</td>\n",
       "      <td>788.36</td>\n",
       "      <td>791.34</td>\n",
       "      <td>783.16</td>\n",
       "      <td>786.90</td>\n",
       "      <td>1,073,000</td>\n",
       "    </tr>\n",
       "    <tr>\n",
       "      <th>2</th>\n",
       "      <td>1/5/2017</td>\n",
       "      <td>786.08</td>\n",
       "      <td>794.48</td>\n",
       "      <td>785.02</td>\n",
       "      <td>794.02</td>\n",
       "      <td>1,335,200</td>\n",
       "    </tr>\n",
       "    <tr>\n",
       "      <th>3</th>\n",
       "      <td>1/6/2017</td>\n",
       "      <td>795.26</td>\n",
       "      <td>807.90</td>\n",
       "      <td>792.20</td>\n",
       "      <td>806.15</td>\n",
       "      <td>1,640,200</td>\n",
       "    </tr>\n",
       "    <tr>\n",
       "      <th>4</th>\n",
       "      <td>1/9/2017</td>\n",
       "      <td>806.40</td>\n",
       "      <td>809.97</td>\n",
       "      <td>802.83</td>\n",
       "      <td>806.65</td>\n",
       "      <td>1,272,400</td>\n",
       "    </tr>\n",
       "    <tr>\n",
       "      <th>5</th>\n",
       "      <td>1/10/2017</td>\n",
       "      <td>807.86</td>\n",
       "      <td>809.13</td>\n",
       "      <td>803.51</td>\n",
       "      <td>804.79</td>\n",
       "      <td>1,176,800</td>\n",
       "    </tr>\n",
       "    <tr>\n",
       "      <th>6</th>\n",
       "      <td>1/11/2017</td>\n",
       "      <td>805.00</td>\n",
       "      <td>808.15</td>\n",
       "      <td>801.37</td>\n",
       "      <td>807.91</td>\n",
       "      <td>1,065,900</td>\n",
       "    </tr>\n",
       "    <tr>\n",
       "      <th>7</th>\n",
       "      <td>1/12/2017</td>\n",
       "      <td>807.14</td>\n",
       "      <td>807.39</td>\n",
       "      <td>799.17</td>\n",
       "      <td>806.36</td>\n",
       "      <td>1,353,100</td>\n",
       "    </tr>\n",
       "    <tr>\n",
       "      <th>8</th>\n",
       "      <td>1/13/2017</td>\n",
       "      <td>807.48</td>\n",
       "      <td>811.22</td>\n",
       "      <td>806.69</td>\n",
       "      <td>807.88</td>\n",
       "      <td>1,099,200</td>\n",
       "    </tr>\n",
       "    <tr>\n",
       "      <th>9</th>\n",
       "      <td>1/17/2017</td>\n",
       "      <td>807.08</td>\n",
       "      <td>807.14</td>\n",
       "      <td>800.37</td>\n",
       "      <td>804.61</td>\n",
       "      <td>1,362,100</td>\n",
       "    </tr>\n",
       "    <tr>\n",
       "      <th>10</th>\n",
       "      <td>1/18/2017</td>\n",
       "      <td>805.81</td>\n",
       "      <td>806.21</td>\n",
       "      <td>800.99</td>\n",
       "      <td>806.07</td>\n",
       "      <td>1,294,400</td>\n",
       "    </tr>\n",
       "    <tr>\n",
       "      <th>11</th>\n",
       "      <td>1/19/2017</td>\n",
       "      <td>805.12</td>\n",
       "      <td>809.48</td>\n",
       "      <td>801.80</td>\n",
       "      <td>802.17</td>\n",
       "      <td>919,300</td>\n",
       "    </tr>\n",
       "    <tr>\n",
       "      <th>12</th>\n",
       "      <td>1/20/2017</td>\n",
       "      <td>806.91</td>\n",
       "      <td>806.91</td>\n",
       "      <td>801.69</td>\n",
       "      <td>805.02</td>\n",
       "      <td>1,670,000</td>\n",
       "    </tr>\n",
       "    <tr>\n",
       "      <th>13</th>\n",
       "      <td>1/23/2017</td>\n",
       "      <td>807.25</td>\n",
       "      <td>820.87</td>\n",
       "      <td>803.74</td>\n",
       "      <td>819.31</td>\n",
       "      <td>1,963,600</td>\n",
       "    </tr>\n",
       "    <tr>\n",
       "      <th>14</th>\n",
       "      <td>1/24/2017</td>\n",
       "      <td>822.30</td>\n",
       "      <td>825.90</td>\n",
       "      <td>817.82</td>\n",
       "      <td>823.87</td>\n",
       "      <td>1,474,000</td>\n",
       "    </tr>\n",
       "    <tr>\n",
       "      <th>15</th>\n",
       "      <td>1/25/2017</td>\n",
       "      <td>829.62</td>\n",
       "      <td>835.77</td>\n",
       "      <td>825.06</td>\n",
       "      <td>835.67</td>\n",
       "      <td>1,494,500</td>\n",
       "    </tr>\n",
       "    <tr>\n",
       "      <th>16</th>\n",
       "      <td>1/26/2017</td>\n",
       "      <td>837.81</td>\n",
       "      <td>838.00</td>\n",
       "      <td>827.01</td>\n",
       "      <td>832.15</td>\n",
       "      <td>2,973,900</td>\n",
       "    </tr>\n",
       "    <tr>\n",
       "      <th>17</th>\n",
       "      <td>1/27/2017</td>\n",
       "      <td>834.71</td>\n",
       "      <td>841.95</td>\n",
       "      <td>820.44</td>\n",
       "      <td>823.31</td>\n",
       "      <td>2,965,800</td>\n",
       "    </tr>\n",
       "    <tr>\n",
       "      <th>18</th>\n",
       "      <td>1/30/2017</td>\n",
       "      <td>814.66</td>\n",
       "      <td>815.84</td>\n",
       "      <td>799.80</td>\n",
       "      <td>802.32</td>\n",
       "      <td>3,246,600</td>\n",
       "    </tr>\n",
       "    <tr>\n",
       "      <th>19</th>\n",
       "      <td>1/31/2017</td>\n",
       "      <td>796.86</td>\n",
       "      <td>801.25</td>\n",
       "      <td>790.52</td>\n",
       "      <td>796.79</td>\n",
       "      <td>2,160,600</td>\n",
       "    </tr>\n",
       "  </tbody>\n",
       "</table>\n",
       "</div>"
      ],
      "text/plain": [
       "         Date    Open    High     Low   Close     Volume\n",
       "0    1/3/2017  778.81  789.63  775.80  786.14  1,657,300\n",
       "1    1/4/2017  788.36  791.34  783.16  786.90  1,073,000\n",
       "2    1/5/2017  786.08  794.48  785.02  794.02  1,335,200\n",
       "3    1/6/2017  795.26  807.90  792.20  806.15  1,640,200\n",
       "4    1/9/2017  806.40  809.97  802.83  806.65  1,272,400\n",
       "5   1/10/2017  807.86  809.13  803.51  804.79  1,176,800\n",
       "6   1/11/2017  805.00  808.15  801.37  807.91  1,065,900\n",
       "7   1/12/2017  807.14  807.39  799.17  806.36  1,353,100\n",
       "8   1/13/2017  807.48  811.22  806.69  807.88  1,099,200\n",
       "9   1/17/2017  807.08  807.14  800.37  804.61  1,362,100\n",
       "10  1/18/2017  805.81  806.21  800.99  806.07  1,294,400\n",
       "11  1/19/2017  805.12  809.48  801.80  802.17    919,300\n",
       "12  1/20/2017  806.91  806.91  801.69  805.02  1,670,000\n",
       "13  1/23/2017  807.25  820.87  803.74  819.31  1,963,600\n",
       "14  1/24/2017  822.30  825.90  817.82  823.87  1,474,000\n",
       "15  1/25/2017  829.62  835.77  825.06  835.67  1,494,500\n",
       "16  1/26/2017  837.81  838.00  827.01  832.15  2,973,900\n",
       "17  1/27/2017  834.71  841.95  820.44  823.31  2,965,800\n",
       "18  1/30/2017  814.66  815.84  799.80  802.32  3,246,600\n",
       "19  1/31/2017  796.86  801.25  790.52  796.79  2,160,600"
      ]
     },
     "execution_count": 19,
     "metadata": {},
     "output_type": "execute_result"
    }
   ],
   "source": [
    "df_test=pd.read_csv('../../Datasets/Google_Stock_price/Google_Stock_Price_Test.csv')\n",
    "df_test"
   ]
  },
  {
   "cell_type": "code",
   "execution_count": 20,
   "id": "8bfac34b",
   "metadata": {},
   "outputs": [
    {
     "data": {
      "text/plain": [
       "[<matplotlib.lines.Line2D at 0x23b96c68700>]"
      ]
     },
     "execution_count": 20,
     "metadata": {},
     "output_type": "execute_result"
    },
    {
     "data": {
      "image/png": "[encoded data removed]",
      "text/plain": [
       "<Figure size 432x288 with 1 Axes>"
      ]
     },
     "metadata": {
      "needs_background": "light"
     },
     "output_type": "display_data"
    }
   ],
   "source": [
    "plt.plot(df_test['Open'])"
   ]
  },
  {
   "cell_type": "code",
   "execution_count": 21,
   "id": "6642cd28",
   "metadata": {},
   "outputs": [
    {
     "data": {
      "text/plain": [
       "(20, 4)"
      ]
     },
     "execution_count": 21,
     "metadata": {},
     "output_type": "execute_result"
    }
   ],
   "source": [
    "temp = scaler.transform(df_test[['Open','High','Low','Close']])\n",
    "temp.shape"
   ]
  },
  {
   "cell_type": "code",
   "execution_count": 22,
   "id": "e43f5675",
   "metadata": {},
   "outputs": [
    {
     "data": {
      "text/plain": [
       "(80, 4)"
      ]
     },
     "execution_count": 22,
     "metadata": {},
     "output_type": "execute_result"
    }
   ],
   "source": [
    "temp1 = np.vstack([X[-60:], temp])\n",
    "temp1.shape"
   ]
  },
  {
   "cell_type": "code",
   "execution_count": 23,
   "id": "e1b294c0",
   "metadata": {},
   "outputs": [
    {
     "data": {
      "text/plain": [
       "(20, 60, 4)"
      ]
     },
     "execution_count": 23,
     "metadata": {},
     "output_type": "execute_result"
    }
   ],
   "source": [
    "rows = []\n",
    "for i in range(20):\n",
    "    rows.append(temp1[i:60+i,0:4])\n",
    "X_test = np.array(rows)\n",
    "X_test.shape"
   ]
  },
  {
   "cell_type": "code",
   "execution_count": 24,
   "id": "b253d118",
   "metadata": {},
   "outputs": [],
   "source": [
    "yp=model.predict(X_test)"
   ]
  },
  {
   "cell_type": "code",
   "execution_count": 25,
   "id": "500f01db",
   "metadata": {},
   "outputs": [],
   "source": [
    "yp=scaler.inverse_transform(yp)"
   ]
  },
  {
   "cell_type": "code",
   "execution_count": 26,
   "id": "4591be51",
   "metadata": {},
   "outputs": [
    {
     "data": {
      "text/plain": [
       "array([[775.89233, 785.06305, 769.1079 , 783.46704],\n",
       "       [788.93726, 798.24963, 783.6989 , 796.88855],\n",
       "       [782.7044 , 791.0668 , 776.7132 , 790.1578 ],\n",
       "       [788.97095, 797.4817 , 783.63025, 795.8196 ],\n",
       "       [796.46436, 804.2633 , 791.9058 , 802.89514],\n",
       "       [794.1988 , 801.45026, 789.21643, 799.82367],\n",
       "       [794.4176 , 801.8436 , 789.3611 , 799.7997 ],\n",
       "       [795.97736, 803.4268 , 791.06494, 801.60004],\n",
       "       [793.35986, 800.83264, 788.0956 , 799.22577],\n",
       "       [797.26294, 804.89795, 792.43396, 803.37604],\n",
       "       [790.9398 , 798.4953 , 785.3238 , 797.3146 ],\n",
       "       [794.63403, 802.59937, 789.4458 , 801.3417 ],\n",
       "       [791.12103, 798.9286 , 785.5069 , 798.1427 ],\n",
       "       [793.683  , 801.6937 , 788.3489 , 800.82025],\n",
       "       [803.16394, 810.7792 , 798.927  , 810.08936],\n",
       "       [802.97174, 809.8962 , 798.60004, 809.08734],\n",
       "       [812.9249 , 819.6845 , 809.70624, 818.02466],\n",
       "       [806.5617 , 812.81384, 802.4384 , 811.28076],\n",
       "       [805.8618 , 812.69257, 801.57904, 810.80084],\n",
       "       [785.9484 , 793.44904, 779.2723 , 792.3731 ]], dtype=float32)"
      ]
     },
     "execution_count": 26,
     "metadata": {},
     "output_type": "execute_result"
    }
   ],
   "source": [
    "yp"
   ]
  },
  {
   "cell_type": "code",
   "execution_count": 27,
   "id": "a55a677a",
   "metadata": {},
   "outputs": [],
   "source": [
    "A = df_test[['Open','High','Low','Close']]"
   ]
  },
  {
   "cell_type": "code",
   "execution_count": 28,
   "id": "a5cde04b",
   "metadata": {},
   "outputs": [
    {
     "data": {
      "text/plain": [
       "[<matplotlib.lines.Line2D at 0x23b9700ac40>,\n",
       " <matplotlib.lines.Line2D at 0x23b9700ad00>,\n",
       " <matplotlib.lines.Line2D at 0x23b9700ad90>,\n",
       " <matplotlib.lines.Line2D at 0x23b9700ae80>]"
      ]
     },
     "execution_count": 28,
     "metadata": {},
     "output_type": "execute_result"
    },
    {
     "data": {
      "image/png": "[encoded data removed]",
      "text/plain": [
       "<Figure size 432x288 with 1 Axes>"
      ]
     },
     "metadata": {
      "needs_background": "light"
     },
     "output_type": "display_data"
    }
   ],
   "source": [
    "plt.plot(A, c='blue')\n",
    "plt.plot(yp, c='red')"
   ]
  },
  {
   "cell_type": "code",
   "execution_count": null,
   "id": "e954c7cd",
   "metadata": {},
   "outputs": [],
   "source": []
  }
 ],
 "metadata": {
  "kernelspec": {
   "display_name": "Python 3",
   "language": "python",
   "name": "python3"
  },
  "language_info": {
   "codemirror_mode": {
    "name": "ipython",
    "version": 3
   },
   "file_extension": ".py",
   "mimetype": "text/x-python",
   "name": "python",
   "nbconvert_exporter": "python",
   "pygments_lexer": "ipython3",
   "version": "3.8.8"
  }
 },
 "nbformat": 4,
 "nbformat_minor": 5
}
